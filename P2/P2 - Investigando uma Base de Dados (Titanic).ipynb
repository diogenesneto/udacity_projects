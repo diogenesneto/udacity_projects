{
 "cells": [
  {
   "cell_type": "markdown",
   "metadata": {},
   "source": [
    "## 1. Introdução"
   ]
  },
  {
   "cell_type": "markdown",
   "metadata": {},
   "source": [
    "Para este projeto, foi sugerido a escolha de uma base de dados (dentre duas) para elaborarmos uma pergunta de nossa escolha. Fiz a opção pela base de dados do Titanic, que contém os dados de todos os tripulantes (sobreviventes e vítimas).\n",
    "\n",
    "Perguntas escolhidas:\n",
    "\n",
    "* Relação entre sexo e sobreviventes\n",
    "* Relação entre faixa etária e sobreviventes"
   ]
  },
  {
   "cell_type": "markdown",
   "metadata": {},
   "source": [
    "## 2. Importando as bibliotecas necessárias"
   ]
  },
  {
   "cell_type": "code",
   "execution_count": 1,
   "metadata": {
    "collapsed": true
   },
   "outputs": [],
   "source": [
    "import numpy as np\n",
    "import pandas as pd\n",
    "import matplotlib.pyplot as plt\n",
    "import seaborn as sns"
   ]
  },
  {
   "cell_type": "markdown",
   "metadata": {},
   "source": [
    "## 3. Importando o CSV"
   ]
  },
  {
   "cell_type": "code",
   "execution_count": 2,
   "metadata": {
    "collapsed": false
   },
   "outputs": [],
   "source": [
    "titanic_df = pd.read_csv('titanic_data.csv')"
   ]
  },
  {
   "cell_type": "code",
   "execution_count": 3,
   "metadata": {
    "collapsed": false
   },
   "outputs": [
    {
     "name": "stdout",
     "output_type": "stream",
     "text": [
      "<class 'pandas.core.frame.DataFrame'>\n",
      "RangeIndex: 891 entries, 0 to 890\n",
      "Data columns (total 12 columns):\n",
      "PassengerId    891 non-null int64\n",
      "Survived       891 non-null int64\n",
      "Pclass         891 non-null int64\n",
      "Name           891 non-null object\n",
      "Sex            891 non-null object\n",
      "Age            714 non-null float64\n",
      "SibSp          891 non-null int64\n",
      "Parch          891 non-null int64\n",
      "Ticket         891 non-null object\n",
      "Fare           891 non-null float64\n",
      "Cabin          204 non-null object\n",
      "Embarked       889 non-null object\n",
      "dtypes: float64(2), int64(5), object(5)\n",
      "memory usage: 83.6+ KB\n"
     ]
    }
   ],
   "source": [
    "titanic_df.info()"
   ]
  },
  {
   "cell_type": "markdown",
   "metadata": {},
   "source": [
    "## 4. Preenchendo os campos nulos"
   ]
  },
  {
   "cell_type": "markdown",
   "metadata": {},
   "source": [
    "#### Obs: Entre os dados escolhidos para análise, podemos observar que alguns passageiros não estão com as idades preenchidas. Faremos a remoção destes valores para a não interferência na análise."
   ]
  },
  {
   "cell_type": "code",
   "execution_count": 4,
   "metadata": {
    "collapsed": true
   },
   "outputs": [],
   "source": [
    "# Obtendo as idades não nulas\n",
    "\n",
    "idades_naonulas = titanic_df[titanic_df['Age'].notnull()]"
   ]
  },
  {
   "cell_type": "code",
   "execution_count": 5,
   "metadata": {
    "collapsed": false
   },
   "outputs": [
    {
     "name": "stdout",
     "output_type": "stream",
     "text": [
      "Sex\n",
      "female    261\n",
      "male      453\n",
      "dtype: int64\n"
     ]
    }
   ],
   "source": [
    "print idades_naonulas.groupby('Sex').size()"
   ]
  },
  {
   "cell_type": "markdown",
   "metadata": {},
   "source": [
    "#### Obs: Serão usados somente os passageiros que estiverem com a idade atribuída, removeremos o restante do DataFrame"
   ]
  },
  {
   "cell_type": "code",
   "execution_count": 6,
   "metadata": {
    "collapsed": false
   },
   "outputs": [],
   "source": [
    "titanic_df = idades_naonulas"
   ]
  },
  {
   "cell_type": "code",
   "execution_count": 7,
   "metadata": {
    "collapsed": false
   },
   "outputs": [
    {
     "name": "stdout",
     "output_type": "stream",
     "text": [
      "<class 'pandas.core.frame.DataFrame'>\n",
      "Int64Index: 714 entries, 0 to 890\n",
      "Data columns (total 12 columns):\n",
      "PassengerId    714 non-null int64\n",
      "Survived       714 non-null int64\n",
      "Pclass         714 non-null int64\n",
      "Name           714 non-null object\n",
      "Sex            714 non-null object\n",
      "Age            714 non-null float64\n",
      "SibSp          714 non-null int64\n",
      "Parch          714 non-null int64\n",
      "Ticket         714 non-null object\n",
      "Fare           714 non-null float64\n",
      "Cabin          185 non-null object\n",
      "Embarked       712 non-null object\n",
      "dtypes: float64(2), int64(5), object(5)\n",
      "memory usage: 72.5+ KB\n"
     ]
    }
   ],
   "source": [
    "# Checando que os valores foram preenchidos\n",
    "\n",
    "titanic_df.info()"
   ]
  },
  {
   "cell_type": "markdown",
   "metadata": {
    "collapsed": true
   },
   "source": [
    "## 5. Limpando as colunas não utilizadas"
   ]
  },
  {
   "cell_type": "code",
   "execution_count": 8,
   "metadata": {
    "collapsed": false
   },
   "outputs": [],
   "source": [
    "# Limpando as colunas Pclass, Name, Ticket, SibSP, Parch, Ticket, Fare, Cabin e Embarked\n",
    "titanic_df = titanic_df.drop(['Pclass', 'Name', 'Ticket','SibSp', 'Parch', 'Ticket', 'Fare', 'Cabin', 'Embarked'], axis=1)"
   ]
  },
  {
   "cell_type": "code",
   "execution_count": 9,
   "metadata": {
    "collapsed": false
   },
   "outputs": [
    {
     "name": "stdout",
     "output_type": "stream",
     "text": [
      "<class 'pandas.core.frame.DataFrame'>\n",
      "Int64Index: 714 entries, 0 to 890\n",
      "Data columns (total 4 columns):\n",
      "PassengerId    714 non-null int64\n",
      "Survived       714 non-null int64\n",
      "Sex            714 non-null object\n",
      "Age            714 non-null float64\n",
      "dtypes: float64(1), int64(2), object(1)\n",
      "memory usage: 27.9+ KB\n"
     ]
    }
   ],
   "source": [
    "titanic_df.info()"
   ]
  },
  {
   "cell_type": "markdown",
   "metadata": {},
   "source": [
    "## 6. Melhorando a visualização dos Dados"
   ]
  },
  {
   "cell_type": "code",
   "execution_count": 10,
   "metadata": {
    "collapsed": false
   },
   "outputs": [],
   "source": [
    "# Modificando o campo sobrevivência dando nome de True e False para Sobrevivente\n",
    "survived_map = {0: 'Falso' , 1: 'Verdadeiro'}\n",
    "titanic_df['Survived'] = titanic_df['Survived'].map(survived_map)"
   ]
  },
  {
   "cell_type": "code",
   "execution_count": 11,
   "metadata": {
    "collapsed": false
   },
   "outputs": [
    {
     "data": {
      "text/html": [
       "<div>\n",
       "<table border=\"1\" class=\"dataframe\">\n",
       "  <thead>\n",
       "    <tr style=\"text-align: right;\">\n",
       "      <th></th>\n",
       "      <th>PassengerId</th>\n",
       "      <th>Survived</th>\n",
       "      <th>Sex</th>\n",
       "      <th>Age</th>\n",
       "    </tr>\n",
       "  </thead>\n",
       "  <tbody>\n",
       "    <tr>\n",
       "      <th>0</th>\n",
       "      <td>1</td>\n",
       "      <td>Falso</td>\n",
       "      <td>male</td>\n",
       "      <td>22.0</td>\n",
       "    </tr>\n",
       "    <tr>\n",
       "      <th>1</th>\n",
       "      <td>2</td>\n",
       "      <td>Verdadeiro</td>\n",
       "      <td>female</td>\n",
       "      <td>38.0</td>\n",
       "    </tr>\n",
       "    <tr>\n",
       "      <th>2</th>\n",
       "      <td>3</td>\n",
       "      <td>Verdadeiro</td>\n",
       "      <td>female</td>\n",
       "      <td>26.0</td>\n",
       "    </tr>\n",
       "    <tr>\n",
       "      <th>3</th>\n",
       "      <td>4</td>\n",
       "      <td>Verdadeiro</td>\n",
       "      <td>female</td>\n",
       "      <td>35.0</td>\n",
       "    </tr>\n",
       "    <tr>\n",
       "      <th>4</th>\n",
       "      <td>5</td>\n",
       "      <td>Falso</td>\n",
       "      <td>male</td>\n",
       "      <td>35.0</td>\n",
       "    </tr>\n",
       "  </tbody>\n",
       "</table>\n",
       "</div>"
      ],
      "text/plain": [
       "   PassengerId    Survived     Sex   Age\n",
       "0            1       Falso    male  22.0\n",
       "1            2  Verdadeiro  female  38.0\n",
       "2            3  Verdadeiro  female  26.0\n",
       "3            4  Verdadeiro  female  35.0\n",
       "4            5       Falso    male  35.0"
      ]
     },
     "execution_count": 11,
     "metadata": {},
     "output_type": "execute_result"
    }
   ],
   "source": [
    "titanic_df.head(5)"
   ]
  },
  {
   "cell_type": "code",
   "execution_count": 12,
   "metadata": {
    "collapsed": false
   },
   "outputs": [
    {
     "data": {
      "text/plain": [
       "80.0"
      ]
     },
     "execution_count": 12,
     "metadata": {},
     "output_type": "execute_result"
    }
   ],
   "source": [
    "# Checando a idade máxima\n",
    "titanic_df['Age'].max()"
   ]
  },
  {
   "cell_type": "code",
   "execution_count": 13,
   "metadata": {
    "collapsed": false
   },
   "outputs": [
    {
     "data": {
      "text/plain": [
       "0.41999999999999998"
      ]
     },
     "execution_count": 13,
     "metadata": {},
     "output_type": "execute_result"
    }
   ],
   "source": [
    "# Checando a idade mínima\n",
    "titanic_df['Age'].min()"
   ]
  },
  {
   "cell_type": "code",
   "execution_count": 14,
   "metadata": {
    "collapsed": false
   },
   "outputs": [],
   "source": [
    "# Agrupando idades por faixas etárias (de 10 em 10 anos)\n",
    "faixa_idades = ['0-9', '10-19', '20-29', '30-39', '40-49', '50-59', '60-69', '70-80']"
   ]
  },
  {
   "cell_type": "code",
   "execution_count": 15,
   "metadata": {
    "collapsed": false
   },
   "outputs": [],
   "source": [
    "titanic_df['age_group'] = pd.cut(titanic_df.Age, range(0, 81, 10), labels=faixa_idades)"
   ]
  },
  {
   "cell_type": "code",
   "execution_count": 16,
   "metadata": {
    "collapsed": false
   },
   "outputs": [
    {
     "data": {
      "text/plain": [
       "'10-19'"
      ]
     },
     "execution_count": 16,
     "metadata": {},
     "output_type": "execute_result"
    }
   ],
   "source": [
    "titanic_df['age_group'].iloc[630]"
   ]
  },
  {
   "cell_type": "markdown",
   "metadata": {},
   "source": [
    "## 7. Analisando os Dados"
   ]
  },
  {
   "cell_type": "markdown",
   "metadata": {},
   "source": [
    "### 7.1 Número de Sobreviventes"
   ]
  },
  {
   "cell_type": "markdown",
   "metadata": {},
   "source": [
    "#### Primeiramente vamos analisar o número total de passageiros e o número total de homens e mulheres"
   ]
  },
  {
   "cell_type": "code",
   "execution_count": 17,
   "metadata": {
    "collapsed": false
   },
   "outputs": [],
   "source": [
    "# Número de Passageiros e números de sobreviventes (conforme o kaggle)\n",
    "passageiros_kaggle = 2224\n",
    "sobreviventes_kaggle = 722\n",
    "naosobreviventes_kaggle = passageiros_kaggle - sobreviventes_kaggle"
   ]
  },
  {
   "cell_type": "code",
   "execution_count": 18,
   "metadata": {
    "collapsed": false
   },
   "outputs": [
    {
     "name": "stdout",
     "output_type": "stream",
     "text": [
      "2224\n",
      "722\n",
      "1502\n"
     ]
    }
   ],
   "source": [
    "print passageiros_kaggle\n",
    "print sobreviventes_kaggle\n",
    "print naosobreviventes_kaggle"
   ]
  },
  {
   "cell_type": "code",
   "execution_count": 19,
   "metadata": {
    "collapsed": false
   },
   "outputs": [],
   "source": [
    "# Número de Passageiros e número de sobreviventes (conforme a amostra)\n",
    "passageiros_sample = len(titanic_df)\n",
    "sobreviventes_sample = len(titanic_df[titanic_df.Survived=='Verdadeiro'])\n",
    "naosobreviventes_sample = passageiros_sample - sobreviventes_sample"
   ]
  },
  {
   "cell_type": "code",
   "execution_count": 20,
   "metadata": {
    "collapsed": false
   },
   "outputs": [
    {
     "name": "stdout",
     "output_type": "stream",
     "text": [
      "714\n",
      "290\n",
      "424\n"
     ]
    }
   ],
   "source": [
    "print passageiros_sample\n",
    "print sobreviventes_sample\n",
    "print naosobreviventes_sample"
   ]
  },
  {
   "cell_type": "code",
   "execution_count": 21,
   "metadata": {
    "collapsed": true
   },
   "outputs": [],
   "source": [
    "sobreviventes_data = titanic_df[titanic_df.Survived=='Verdadeiro']\n",
    "naosobreviventes_data = titanic_df[titanic_df.Survived=='Falso']"
   ]
  },
  {
   "cell_type": "code",
   "execution_count": 22,
   "metadata": {
    "collapsed": false
   },
   "outputs": [
    {
     "name": "stdout",
     "output_type": "stream",
     "text": [
      "<class 'pandas.core.frame.DataFrame'>\n",
      "Int64Index: 290 entries, 1 to 889\n",
      "Data columns (total 5 columns):\n",
      "PassengerId    290 non-null int64\n",
      "Survived       290 non-null object\n",
      "Sex            290 non-null object\n",
      "Age            290 non-null float64\n",
      "age_group      290 non-null category\n",
      "dtypes: category(1), float64(1), int64(1), object(2)\n",
      "memory usage: 11.7+ KB\n"
     ]
    }
   ],
   "source": [
    "sobreviventes_data.info()"
   ]
  },
  {
   "cell_type": "code",
   "execution_count": 23,
   "metadata": {
    "collapsed": false
   },
   "outputs": [
    {
     "name": "stdout",
     "output_type": "stream",
     "text": [
      "<class 'pandas.core.frame.DataFrame'>\n",
      "Int64Index: 424 entries, 0 to 890\n",
      "Data columns (total 5 columns):\n",
      "PassengerId    424 non-null int64\n",
      "Survived       424 non-null object\n",
      "Sex            424 non-null object\n",
      "Age            424 non-null float64\n",
      "age_group      424 non-null category\n",
      "dtypes: category(1), float64(1), int64(1), object(2)\n",
      "memory usage: 17.0+ KB\n"
     ]
    }
   ],
   "source": [
    "naosobreviventes_data.info()"
   ]
  },
  {
   "cell_type": "code",
   "execution_count": 24,
   "metadata": {
    "collapsed": false
   },
   "outputs": [
    {
     "name": "stdout",
     "output_type": "stream",
     "text": [
      "Total (Kaggle): 2224\n",
      "Total de Sobreviventes (Kaggle): 722 - 32.464028777%\n",
      "Total de Não Sobreviventes (Kaggle): 1502 - 67.535971223%\n"
     ]
    }
   ],
   "source": [
    "# Calculando a porcentagem de sobreviventes (de acordo com a base do kaggle e com a amostra)\n",
    "from __future__ import division\n",
    "print \"Total (Kaggle): {}\".format(passageiros_kaggle)\n",
    "print \"Total de Sobreviventes (Kaggle): {} - {}{}\".format(sobreviventes_kaggle, sobreviventes_kaggle/passageiros_kaggle * 100, '%')\n",
    "print \"Total de Não Sobreviventes (Kaggle): {} - {}{}\".format(naosobreviventes_kaggle, naosobreviventes_kaggle/passageiros_kaggle * 100, '%')"
   ]
  },
  {
   "cell_type": "code",
   "execution_count": 25,
   "metadata": {
    "collapsed": false
   },
   "outputs": [
    {
     "name": "stdout",
     "output_type": "stream",
     "text": [
      "Total (sample): 714\n",
      "Total de Sobreviventes (sample): 290 - 40.6162464986%\n",
      "Total de Não Sobreviventes (sample): 424 - 59.3837535014%\n"
     ]
    }
   ],
   "source": [
    "from __future__ import division\n",
    "print \"Total (sample): {}\".format(passageiros_sample)\n",
    "print \"Total de Sobreviventes (sample): {} - {}{}\".format(sobreviventes_sample, sobreviventes_sample/passageiros_sample * 100, '%')\n",
    "print \"Total de Não Sobreviventes (sample): {} - {}{}\".format(naosobreviventes_sample, naosobreviventes_sample/passageiros_sample * 100, '%')"
   ]
  },
  {
   "cell_type": "markdown",
   "metadata": {},
   "source": [
    "### Obs: Usaremos os dados do sample, pois estão condizentes com os dados da amostra total"
   ]
  },
  {
   "cell_type": "markdown",
   "metadata": {},
   "source": [
    "## 8. Relação entre sexo e sobreviventes (Qual gênero tem a maior chance de sobrevicência?)"
   ]
  },
  {
   "cell_type": "markdown",
   "metadata": {},
   "source": [
    "### 8.1 Hypothesis"
   ]
  },
  {
   "cell_type": "markdown",
   "metadata": {},
   "source": [
    "#### H0 = O gênero não tem impacto na sobrevivência\n",
    "#### HA = O gênero tem impacto na sobrevivência"
   ]
  },
  {
   "cell_type": "code",
   "execution_count": 26,
   "metadata": {
    "collapsed": false
   },
   "outputs": [],
   "source": [
    "tabela_sexo = pd.crosstab(titanic_df['Survived'],titanic_df['Sex'], margins=True)"
   ]
  },
  {
   "cell_type": "code",
   "execution_count": 27,
   "metadata": {
    "collapsed": false
   },
   "outputs": [
    {
     "name": "stdout",
     "output_type": "stream",
     "text": [
      "<class 'pandas.core.frame.DataFrame'>\n",
      "Int64Index: 714 entries, 0 to 890\n",
      "Data columns (total 5 columns):\n",
      "PassengerId    714 non-null int64\n",
      "Survived       714 non-null object\n",
      "Sex            714 non-null object\n",
      "Age            714 non-null float64\n",
      "age_group      714 non-null category\n",
      "dtypes: category(1), float64(1), int64(1), object(2)\n",
      "memory usage: 28.7+ KB\n"
     ]
    }
   ],
   "source": [
    "titanic_df.info()"
   ]
  },
  {
   "cell_type": "code",
   "execution_count": 28,
   "metadata": {
    "collapsed": false
   },
   "outputs": [
    {
     "data": {
      "text/plain": [
       "261"
      ]
     },
     "execution_count": 28,
     "metadata": {},
     "output_type": "execute_result"
    }
   ],
   "source": [
    "tabela_sexo.female.All"
   ]
  },
  {
   "cell_type": "code",
   "execution_count": 29,
   "metadata": {
    "collapsed": false
   },
   "outputs": [
    {
     "name": "stdout",
     "output_type": "stream",
     "text": [
      "Total de Mulheres: 261\n",
      "Total de Mulheres Sobreviventes: 93\n",
      "Porcentagem de Mulheres Sobreviventes: 75.4789272031%\n"
     ]
    }
   ],
   "source": [
    "# Mulheres sobreviventes\n",
    "from __future__ import division\n",
    "print \"Total de Mulheres: {}\".format(tabela_sexo.female.All)\n",
    "print \"Total de Mulheres Sobreviventes: {}\".format(tabela_sexo.male.Verdadeiro)\n",
    "print \"Porcentagem de Mulheres Sobreviventes: {}{}\".format(tabela_sexo.female.Verdadeiro / tabela_sexo.female.All * 100, '%')"
   ]
  },
  {
   "cell_type": "code",
   "execution_count": 30,
   "metadata": {
    "collapsed": false
   },
   "outputs": [
    {
     "name": "stdout",
     "output_type": "stream",
     "text": [
      "Total de Homens: 453\n",
      "Total de Homens Sobreviventes: 93\n",
      "Porcentagem de Homens Sobreviventes: 20.5298013245%\n"
     ]
    }
   ],
   "source": [
    "# Homens sobreviventes\n",
    "from __future__ import division\n",
    "print \"Total de Homens: {}\".format(tabela_sexo.male.All)\n",
    "print \"Total de Homens Sobreviventes: {}\".format(tabela_sexo.male.Verdadeiro)\n",
    "print \"Porcentagem de Homens Sobreviventes: {}{}\".format(tabela_sexo.male.Verdadeiro / tabela_sexo.male.All * 100, '%')"
   ]
  },
  {
   "cell_type": "markdown",
   "metadata": {},
   "source": [
    "#### Obs: Os números acima mostram um número bem maior de mulheres sobreveviventes em relação aos homens."
   ]
  },
  {
   "cell_type": "markdown",
   "metadata": {},
   "source": [
    "## 9. Relação entre idade e sobreviventes"
   ]
  },
  {
   "cell_type": "markdown",
   "metadata": {},
   "source": [
    "### 9.1 Hypothesis"
   ]
  },
  {
   "cell_type": "markdown",
   "metadata": {},
   "source": [
    "#### H0 = A idade não tem impacto na sobrevivência\n",
    "#### HA = A idade tem impacto na sobrevivência"
   ]
  },
  {
   "cell_type": "markdown",
   "metadata": {},
   "source": [
    "### 9.2 Recarregando os dados (sem eliminar as idades em branco)"
   ]
  },
  {
   "cell_type": "code",
   "execution_count": 31,
   "metadata": {
    "collapsed": true
   },
   "outputs": [],
   "source": [
    "titanic_df = pd.read_csv('titanic_data.csv')\n",
    "titanic_df = titanic_df.drop(['Pclass', 'Name', 'Ticket','SibSp', 'Parch', 'Ticket', 'Fare', 'Cabin', 'Embarked'], axis=1)\n",
    "survived_map = {0: 'Falso' , 1: 'Verdadeiro'}\n",
    "titanic_df['Survived'] = titanic_df['Survived'].map(survived_map)\n",
    "titanic_df['age_group'] = pd.cut(titanic_df.Age, range(0, 81, 10), labels=faixa_idades)"
   ]
  },
  {
   "cell_type": "code",
   "execution_count": 32,
   "metadata": {
    "collapsed": false
   },
   "outputs": [],
   "source": [
    "tabela_idade = pd.crosstab(titanic_df['Survived'],titanic_df['age_group'], margins=True)"
   ]
  },
  {
   "cell_type": "code",
   "execution_count": 33,
   "metadata": {
    "collapsed": false
   },
   "outputs": [
    {
     "data": {
      "text/html": [
       "<div>\n",
       "<table border=\"1\" class=\"dataframe\">\n",
       "  <thead>\n",
       "    <tr style=\"text-align: right;\">\n",
       "      <th>age_group</th>\n",
       "      <th>0-9</th>\n",
       "      <th>10-19</th>\n",
       "      <th>20-29</th>\n",
       "      <th>30-39</th>\n",
       "      <th>40-49</th>\n",
       "      <th>50-59</th>\n",
       "      <th>60-69</th>\n",
       "      <th>70-80</th>\n",
       "      <th>All</th>\n",
       "    </tr>\n",
       "    <tr>\n",
       "      <th>Survived</th>\n",
       "      <th></th>\n",
       "      <th></th>\n",
       "      <th></th>\n",
       "      <th></th>\n",
       "      <th></th>\n",
       "      <th></th>\n",
       "      <th></th>\n",
       "      <th></th>\n",
       "      <th></th>\n",
       "    </tr>\n",
       "  </thead>\n",
       "  <tbody>\n",
       "    <tr>\n",
       "      <th>Falso</th>\n",
       "      <td>26</td>\n",
       "      <td>71</td>\n",
       "      <td>146</td>\n",
       "      <td>86</td>\n",
       "      <td>53</td>\n",
       "      <td>25</td>\n",
       "      <td>13</td>\n",
       "      <td>4</td>\n",
       "      <td>424</td>\n",
       "    </tr>\n",
       "    <tr>\n",
       "      <th>Verdadeiro</th>\n",
       "      <td>38</td>\n",
       "      <td>44</td>\n",
       "      <td>84</td>\n",
       "      <td>69</td>\n",
       "      <td>33</td>\n",
       "      <td>17</td>\n",
       "      <td>4</td>\n",
       "      <td>1</td>\n",
       "      <td>290</td>\n",
       "    </tr>\n",
       "    <tr>\n",
       "      <th>All</th>\n",
       "      <td>64</td>\n",
       "      <td>115</td>\n",
       "      <td>230</td>\n",
       "      <td>155</td>\n",
       "      <td>86</td>\n",
       "      <td>42</td>\n",
       "      <td>17</td>\n",
       "      <td>5</td>\n",
       "      <td>714</td>\n",
       "    </tr>\n",
       "  </tbody>\n",
       "</table>\n",
       "</div>"
      ],
      "text/plain": [
       "age_group   0-9  10-19  20-29  30-39  40-49  50-59  60-69  70-80  All\n",
       "Survived                                                             \n",
       "Falso        26     71    146     86     53     25     13      4  424\n",
       "Verdadeiro   38     44     84     69     33     17      4      1  290\n",
       "All          64    115    230    155     86     42     17      5  714"
      ]
     },
     "execution_count": 33,
     "metadata": {},
     "output_type": "execute_result"
    }
   ],
   "source": [
    "tabela_idade"
   ]
  },
  {
   "cell_type": "code",
   "execution_count": 70,
   "metadata": {
    "collapsed": false
   },
   "outputs": [
    {
     "data": {
      "image/png": "[encoded data removed]",
      "text/plain": [
       "<matplotlib.figure.Figure at 0x7fcb1835a590>"
      ]
     },
     "metadata": {},
     "output_type": "display_data"
    }
   ],
   "source": [
    "# Criação do gráfico\n",
    "%matplotlib inline\n",
    "titanic_df.groupby(['age_group']).size().plot(kind='bar')\n",
    "plt.title(\"Distribuicao dos Grupos de Idades\", fontsize=20)\n",
    "plt.ylabel('Total')\n",
    "plt.xlabel('Grupos de Idades');"
   ]
  },
  {
   "cell_type": "code",
   "execution_count": 76,
   "metadata": {
    "collapsed": false
   },
   "outputs": [
    {
     "data": {
      "text/plain": [
       "<seaborn.axisgrid.FacetGrid at 0x7fcb181ad690>"
      ]
     },
     "execution_count": 76,
     "metadata": {},
     "output_type": "execute_result"
    },
    {
     "data": {
      "image/png": "[encoded data removed]",
      "text/plain": [
       "<matplotlib.figure.Figure at 0x7fcb18137850>"
      ]
     },
     "metadata": {},
     "output_type": "display_data"
    },
    {
     "data": {
      "image/png": "[encoded data removed]",
      "text/plain": [
       "<matplotlib.figure.Figure at 0x7fcb17d4de10>"
      ]
     },
     "metadata": {},
     "output_type": "display_data"
    }
   ],
   "source": [
    "# Outros tipos de gráficos para melhor visualização\n",
    "%matplotlib inline\n",
    "sns.factorplot('Sex', 'Survived', data = titanic_df, kind = 'bar')\n",
    "sns.factorplot('Age',  'Survived',  data = titanic_df, hue_order = [1,0], orient=\"h\", palette=\"Set3\", kind=\"violin\")"
   ]
  },
  {
   "cell_type": "code",
   "execution_count": 72,
   "metadata": {
    "collapsed": false
   },
   "outputs": [
    {
     "name": "stdout",
     "output_type": "stream",
     "text": [
      "<class 'pandas.core.frame.DataFrame'>\n",
      "RangeIndex: 891 entries, 0 to 890\n",
      "Data columns (total 5 columns):\n",
      "PassengerId    891 non-null int64\n",
      "Survived       891 non-null bool\n",
      "Sex            891 non-null object\n",
      "Age            714 non-null float64\n",
      "age_group      714 non-null category\n",
      "dtypes: bool(1), category(1), float64(1), int64(1), object(1)\n",
      "memory usage: 22.8+ KB\n"
     ]
    }
   ],
   "source": [
    "titanic_df.info()"
   ]
  },
  {
   "cell_type": "code",
   "execution_count": 36,
   "metadata": {
    "collapsed": true
   },
   "outputs": [],
   "source": [
    "# Transformando novamente o campor Survived em Booleano para calcular as médias\n",
    "survived_map = {'Falso': False , 'Verdadeiro': True}\n",
    "titanic_df['Survived'] = titanic_df['Survived'].map(survived_map)"
   ]
  },
  {
   "cell_type": "code",
   "execution_count": 37,
   "metadata": {
    "collapsed": false
   },
   "outputs": [
    {
     "name": "stdout",
     "output_type": "stream",
     "text": [
      "<class 'pandas.core.frame.DataFrame'>\n",
      "RangeIndex: 891 entries, 0 to 890\n",
      "Data columns (total 5 columns):\n",
      "PassengerId    891 non-null int64\n",
      "Survived       891 non-null bool\n",
      "Sex            891 non-null object\n",
      "Age            714 non-null float64\n",
      "age_group      714 non-null category\n",
      "dtypes: bool(1), category(1), float64(1), int64(1), object(1)\n",
      "memory usage: 22.8+ KB\n"
     ]
    }
   ],
   "source": [
    "titanic_df.info()"
   ]
  },
  {
   "cell_type": "code",
   "execution_count": 38,
   "metadata": {
    "collapsed": false
   },
   "outputs": [
    {
     "name": "stdout",
     "output_type": "stream",
     "text": [
      "age_group\n",
      "0-9      0.593750\n",
      "10-19    0.382609\n",
      "20-29    0.365217\n",
      "30-39    0.445161\n",
      "40-49    0.383721\n",
      "50-59    0.404762\n",
      "60-69    0.235294\n",
      "70-80    0.200000\n",
      "Name: Survived, dtype: float64\n"
     ]
    }
   ],
   "source": [
    "print titanic_df.groupby(['age_group']).Survived.mean()"
   ]
  },
  {
   "cell_type": "code",
   "execution_count": 39,
   "metadata": {
    "collapsed": false
   },
   "outputs": [
    {
     "name": "stdout",
     "output_type": "stream",
     "text": [
      "Sex     age_group\n",
      "female  0-9          0.612903\n",
      "        10-19        0.739130\n",
      "        20-29        0.753086\n",
      "        30-39        0.836364\n",
      "        40-49        0.677419\n",
      "        50-59        0.928571\n",
      "        60-69        1.000000\n",
      "male    0-9          0.575758\n",
      "        10-19        0.144928\n",
      "        20-29        0.154362\n",
      "        30-39        0.230000\n",
      "        40-49        0.218182\n",
      "        50-59        0.142857\n",
      "        60-69        0.071429\n",
      "        70-80        0.200000\n",
      "Name: Survived, dtype: float64\n"
     ]
    }
   ],
   "source": [
    "print titanic_df.groupby(['Sex','age_group']).Survived.mean()"
   ]
  },
  {
   "cell_type": "code",
   "execution_count": 40,
   "metadata": {
    "collapsed": false
   },
   "outputs": [],
   "source": [
    "# Separando os valores para criação do gráfico\n",
    "dados_homens = titanic_df[titanic_df.Sex == \"male\"].groupby('age_group').Survived.mean().values\n",
    "dados_mulheres = titanic_df[titanic_df.Sex == \"female\"].groupby('age_group').Survived.mean().values"
   ]
  },
  {
   "cell_type": "code",
   "execution_count": 73,
   "metadata": {
    "collapsed": false
   },
   "outputs": [
    {
     "data": {
      "image/png": "[encoded data removed]",
      "text/plain": [
       "<matplotlib.figure.Figure at 0x7fcb1871d090>"
      ]
     },
     "metadata": {},
     "output_type": "display_data"
    }
   ],
   "source": [
    "# Posicionamento no gráfico\n",
    "posicao_homens = np.array(range(len(faixa_idades)))\n",
    "posicao_mulheres = np.array(range(len(faixa_idades)))+0.4\n",
    "\n",
    "# Plotagem\n",
    "ax = plt.subplot()\n",
    "ax.bar(posicao_homens, dados_homens,width=0.4,label='Homens',color='blue')\n",
    "ax.bar(posicao_mulheres, dados_mulheres,width=0.4,label='Mulheres',color='pink')\n",
    "\n",
    "# Inserindo o faixa de idade\n",
    "espacamento = np.array(range(len(faixa_idades)))+0.4\n",
    "plt.xticks(espacamento,  faixa_idades)\n",
    "\n",
    "ax.set_ylabel(\"Proporcao\")\n",
    "ax.set_xlabel(\"Faixa de Idades\")\n",
    "ax.set_title(\"Proporcao de Sobrevivente por Faixa de Idades / Sexo\",fontsize=20)\n",
    "plt.legend(loc='best')\n",
    "plt.show()"
   ]
  },
  {
   "cell_type": "code",
   "execution_count": 74,
   "metadata": {
    "collapsed": false
   },
   "outputs": [
    {
     "data": {
      "text/plain": [
       "<matplotlib.axes._subplots.AxesSubplot at 0x7fcb17be2250>"
      ]
     },
     "execution_count": 74,
     "metadata": {},
     "output_type": "execute_result"
    },
    {
     "data": {
      "image/png": "[encoded data removed]",
      "text/plain": [
       "<matplotlib.figure.Figure at 0x7fcb17bef890>"
      ]
     },
     "metadata": {},
     "output_type": "display_data"
    }
   ],
   "source": [
    "# Teste de gráfico com apenas uma linha de código\n",
    "\n",
    "titanic_df.groupby(['age_group', 'Sex']).Survived.mean().unstack().plot.bar()"
   ]
  },
  {
   "cell_type": "markdown",
   "metadata": {},
   "source": [
    "## 10. Conclusão"
   ]
  },
  {
   "cell_type": "markdown",
   "metadata": {},
   "source": [
    "### 10.1 Limitações da análise:"
   ]
  },
  {
   "cell_type": "markdown",
   "metadata": {},
   "source": [
    "1. Dados incompletos\n",
    "2. Apenas uma amostra foi retirada dos dados\n",
    "3. O números de idades que faltam na amostra, podem desviar os resultados"
   ]
  },
  {
   "cell_type": "markdown",
   "metadata": {},
   "source": [
    "### 10.2 Outras variáveis\n",
    "\n",
    "1. Distinção entre passageiros e tripulação - Não é feita esta distinção, e essa é uma variável que pode ter uma influência na análise proposta\n",
    "2. Ordem de alocação nos botes - Isso pode afetar diretamente no resultado do maior número de sobreviventes tendar para um sexo específico"
   ]
  },
  {
   "cell_type": "markdown",
   "metadata": {},
   "source": [
    "### 10.3 Suposição teórica\n",
    "\n",
    "#### Em relação as idades:\n",
    "\n",
    "1. Pessoas com idades entre 20-29 e 30-39 tiveram a maior quantidade de sobreviventes\n",
    "2. As faixas de idades acima dessas, tem uma queda constante\n",
    "\n",
    "#### Em relação ao sexo:\n",
    "\n",
    "1. Aparentemente, as pessoas do sexo feminino tiveram a maior quantidade de sobreviventes\n",
    "2. Notamos também uma curva de crescimento conforme a idade das mulheres foi aumentando\n",
    "\n",
    "#### Possíveis motivos:\n",
    "\n",
    "1. Uma suposição com relação ao fato de mulheres e mulheres com idades mais avançadas terem o maior número de sobreviventes, pode ser devido ao fato de ser dada prioridade para crianças, mulheres e idosos na utilização dos primeiros botes salva vidas"
   ]
  }
 ],
 "metadata": {
  "kernelspec": {
   "display_name": "Python [default]",
   "language": "python",
   "name": "python2"
  },
  "language_info": {
   "codemirror_mode": {
    "name": "ipython",
    "version": 2
   },
   "file_extension": ".py",
   "mimetype": "text/x-python",
   "name": "python",
   "nbconvert_exporter": "python",
   "pygments_lexer": "ipython2",
   "version": "2.7.13"
  }
 },
 "nbformat": 4,
 "nbformat_minor": 2
}
