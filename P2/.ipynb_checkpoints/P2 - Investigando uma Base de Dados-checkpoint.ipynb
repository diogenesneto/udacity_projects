{
 "cells": [
  {
   "cell_type": "markdown",
   "metadata": {},
   "source": [
    "## 1. Introdução"
   ]
  },
  {
   "cell_type": "markdown",
   "metadata": {},
   "source": [
    "Para este projeto, foi sugerido a escolha de uma base de dados (dentre duas) para elaborarmos uma pergunta de nossa escolha. Fiz a opção pela base de dados do Titanic, que contém os dados de todos os tripulantes (sobreviventes e vítimas).\n",
    "\n",
    "Perguntas escolhidas:\n",
    "\n",
    "* Relação entre sexo e sobreviventes\n",
    "* Relação entre faixa etária e sobreviventes"
   ]
  },
  {
   "cell_type": "markdown",
   "metadata": {},
   "source": [
    "## 2. Importando as bibliotecas necessárias"
   ]
  },
  {
   "cell_type": "code",
   "execution_count": 201,
   "metadata": {
    "collapsed": true
   },
   "outputs": [],
   "source": [
    "import numpy as np\n",
    "import pandas as pd\n",
    "import matplotlib.pyplot as plt\n",
    "import seaborn as sns"
   ]
  },
  {
   "cell_type": "markdown",
   "metadata": {},
   "source": [
    "## 3. Importando o CSV"
   ]
  },
  {
   "cell_type": "code",
   "execution_count": 202,
   "metadata": {
    "collapsed": false
   },
   "outputs": [],
   "source": [
    "titanic_df = pd.read_csv('titanic_data.csv')"
   ]
  },
  {
   "cell_type": "code",
   "execution_count": 203,
   "metadata": {
    "collapsed": false
   },
   "outputs": [
    {
     "name": "stdout",
     "output_type": "stream",
     "text": [
      "<class 'pandas.core.frame.DataFrame'>\n",
      "RangeIndex: 891 entries, 0 to 890\n",
      "Data columns (total 12 columns):\n",
      "PassengerId    891 non-null int64\n",
      "Survived       891 non-null int64\n",
      "Pclass         891 non-null int64\n",
      "Name           891 non-null object\n",
      "Sex            891 non-null object\n",
      "Age            714 non-null float64\n",
      "SibSp          891 non-null int64\n",
      "Parch          891 non-null int64\n",
      "Ticket         891 non-null object\n",
      "Fare           891 non-null float64\n",
      "Cabin          204 non-null object\n",
      "Embarked       889 non-null object\n",
      "dtypes: float64(2), int64(5), object(5)\n",
      "memory usage: 83.6+ KB\n"
     ]
    }
   ],
   "source": [
    "titanic_df.info()"
   ]
  },
  {
   "cell_type": "markdown",
   "metadata": {},
   "source": [
    "## 4. Preenchendo os campos nulos"
   ]
  },
  {
   "cell_type": "markdown",
   "metadata": {},
   "source": [
    "#### Obs: Entre os dados escolhidos para análise, podemos observar que alguns passageiros não estão com as idades preenchidas. Podemos obter a média das idades por sexo e atribuir a eles o valor médio."
   ]
  },
  {
   "cell_type": "code",
   "execution_count": 204,
   "metadata": {
    "collapsed": true
   },
   "outputs": [],
   "source": [
    "# Obtendo as idades nulas e a média das idades por sexo\n",
    "\n",
    "idades_nulas = titanic_df[titanic_df['Age'].isnull()]\n",
    "media_idades = titanic_df.groupby(['Sex'])['Age'].mean().round()"
   ]
  },
  {
   "cell_type": "code",
   "execution_count": 205,
   "metadata": {
    "collapsed": false
   },
   "outputs": [
    {
     "data": {
      "text/plain": [
       "Sex\n",
       "female    28.0\n",
       "male      31.0\n",
       "Name: Age, dtype: float64"
      ]
     },
     "execution_count": 205,
     "metadata": {},
     "output_type": "execute_result"
    }
   ],
   "source": [
    "media_idades"
   ]
  },
  {
   "cell_type": "code",
   "execution_count": 206,
   "metadata": {
    "collapsed": false
   },
   "outputs": [
    {
     "data": {
      "text/plain": [
       "nan"
      ]
     },
     "execution_count": 206,
     "metadata": {},
     "output_type": "execute_result"
    }
   ],
   "source": [
    "### Ao verificar no documento CSV, vemos que o primeiro valor nulo é o campo 5 do DataFrame\n",
    "### Vamos checar se ele está nulo\n",
    "\n",
    "titanic_df.iloc[5].Age"
   ]
  },
  {
   "cell_type": "markdown",
   "metadata": {},
   "source": [
    "#### Obs: Para Homens a idade será substituída por 31 e para as Mulheres será 28."
   ]
  },
  {
   "cell_type": "code",
   "execution_count": 207,
   "metadata": {
    "collapsed": false
   },
   "outputs": [],
   "source": [
    "# Função que vai verificar se a idade é nula e atribuir a ela a média conforme o sexo\n",
    "\n",
    "def subs_nan_ages(row):\n",
    "    if pd.isnull(row['Age']):\n",
    "        return media_idades[row['Sex']]\n",
    "    else:\n",
    "        return row['Age']\n",
    "titanic_df['Age'] =titanic_df.apply(subs_nan_ages, axis=1)"
   ]
  },
  {
   "cell_type": "code",
   "execution_count": 208,
   "metadata": {
    "collapsed": false
   },
   "outputs": [
    {
     "name": "stdout",
     "output_type": "stream",
     "text": [
      "<class 'pandas.core.frame.DataFrame'>\n",
      "RangeIndex: 891 entries, 0 to 890\n",
      "Data columns (total 12 columns):\n",
      "PassengerId    891 non-null int64\n",
      "Survived       891 non-null int64\n",
      "Pclass         891 non-null int64\n",
      "Name           891 non-null object\n",
      "Sex            891 non-null object\n",
      "Age            891 non-null float64\n",
      "SibSp          891 non-null int64\n",
      "Parch          891 non-null int64\n",
      "Ticket         891 non-null object\n",
      "Fare           891 non-null float64\n",
      "Cabin          204 non-null object\n",
      "Embarked       889 non-null object\n",
      "dtypes: float64(2), int64(5), object(5)\n",
      "memory usage: 83.6+ KB\n"
     ]
    }
   ],
   "source": [
    "# Checando que os valores foram preenchidos\n",
    "\n",
    "titanic_df.info()"
   ]
  },
  {
   "cell_type": "code",
   "execution_count": 209,
   "metadata": {
    "collapsed": false
   },
   "outputs": [
    {
     "data": {
      "text/plain": [
       "31.0"
      ]
     },
     "execution_count": 209,
     "metadata": {},
     "output_type": "execute_result"
    }
   ],
   "source": [
    "# Confirmando que a idade foi substituída\n",
    "\n",
    "titanic_df.iloc[5].Age"
   ]
  },
  {
   "cell_type": "markdown",
   "metadata": {
    "collapsed": true
   },
   "source": [
    "## 5. Limpando as colunas não utilizadas"
   ]
  },
  {
   "cell_type": "code",
   "execution_count": 210,
   "metadata": {
    "collapsed": false
   },
   "outputs": [],
   "source": [
    "# Limpando as colunas Pclass, Name, Ticket, SibSP, Parch, Ticket, Fare, Cabin e Embarked\n",
    "titanic_df = titanic_df.drop(['Pclass', 'Name', 'Ticket','SibSp', 'Parch', 'Ticket', 'Fare', 'Cabin', 'Embarked'], axis=1)"
   ]
  },
  {
   "cell_type": "code",
   "execution_count": 211,
   "metadata": {
    "collapsed": false
   },
   "outputs": [
    {
     "name": "stdout",
     "output_type": "stream",
     "text": [
      "<class 'pandas.core.frame.DataFrame'>\n",
      "RangeIndex: 891 entries, 0 to 890\n",
      "Data columns (total 4 columns):\n",
      "PassengerId    891 non-null int64\n",
      "Survived       891 non-null int64\n",
      "Sex            891 non-null object\n",
      "Age            891 non-null float64\n",
      "dtypes: float64(1), int64(2), object(1)\n",
      "memory usage: 27.9+ KB\n"
     ]
    }
   ],
   "source": [
    "titanic_df.info()"
   ]
  },
  {
   "cell_type": "markdown",
   "metadata": {},
   "source": [
    "## 6. Melhorando a visualização dos Dados"
   ]
  },
  {
   "cell_type": "code",
   "execution_count": 212,
   "metadata": {
    "collapsed": false
   },
   "outputs": [],
   "source": [
    "# Modificando o campo sobrevivência dando nome de True e False para Sobrevivente\n",
    "survived_map = {0: 'Falso' , 1: 'Verdadeiro'}\n",
    "titanic_df['Survived'] = titanic_df['Survived'].map(survived_map)"
   ]
  },
  {
   "cell_type": "code",
   "execution_count": 213,
   "metadata": {
    "collapsed": false
   },
   "outputs": [
    {
     "data": {
      "text/html": [
       "<div>\n",
       "<table border=\"1\" class=\"dataframe\">\n",
       "  <thead>\n",
       "    <tr style=\"text-align: right;\">\n",
       "      <th></th>\n",
       "      <th>PassengerId</th>\n",
       "      <th>Survived</th>\n",
       "      <th>Sex</th>\n",
       "      <th>Age</th>\n",
       "    </tr>\n",
       "  </thead>\n",
       "  <tbody>\n",
       "    <tr>\n",
       "      <th>0</th>\n",
       "      <td>1</td>\n",
       "      <td>Falso</td>\n",
       "      <td>male</td>\n",
       "      <td>22.0</td>\n",
       "    </tr>\n",
       "    <tr>\n",
       "      <th>1</th>\n",
       "      <td>2</td>\n",
       "      <td>Verdadeiro</td>\n",
       "      <td>female</td>\n",
       "      <td>38.0</td>\n",
       "    </tr>\n",
       "    <tr>\n",
       "      <th>2</th>\n",
       "      <td>3</td>\n",
       "      <td>Verdadeiro</td>\n",
       "      <td>female</td>\n",
       "      <td>26.0</td>\n",
       "    </tr>\n",
       "    <tr>\n",
       "      <th>3</th>\n",
       "      <td>4</td>\n",
       "      <td>Verdadeiro</td>\n",
       "      <td>female</td>\n",
       "      <td>35.0</td>\n",
       "    </tr>\n",
       "    <tr>\n",
       "      <th>4</th>\n",
       "      <td>5</td>\n",
       "      <td>Falso</td>\n",
       "      <td>male</td>\n",
       "      <td>35.0</td>\n",
       "    </tr>\n",
       "  </tbody>\n",
       "</table>\n",
       "</div>"
      ],
      "text/plain": [
       "   PassengerId    Survived     Sex   Age\n",
       "0            1       Falso    male  22.0\n",
       "1            2  Verdadeiro  female  38.0\n",
       "2            3  Verdadeiro  female  26.0\n",
       "3            4  Verdadeiro  female  35.0\n",
       "4            5       Falso    male  35.0"
      ]
     },
     "execution_count": 213,
     "metadata": {},
     "output_type": "execute_result"
    }
   ],
   "source": [
    "titanic_df.head(5)"
   ]
  },
  {
   "cell_type": "code",
   "execution_count": 214,
   "metadata": {
    "collapsed": false
   },
   "outputs": [
    {
     "data": {
      "text/plain": [
       "80.0"
      ]
     },
     "execution_count": 214,
     "metadata": {},
     "output_type": "execute_result"
    }
   ],
   "source": [
    "# Checando a idade máxima\n",
    "titanic_df['Age'].max()"
   ]
  },
  {
   "cell_type": "code",
   "execution_count": 215,
   "metadata": {
    "collapsed": false
   },
   "outputs": [
    {
     "data": {
      "text/plain": [
       "0.41999999999999998"
      ]
     },
     "execution_count": 215,
     "metadata": {},
     "output_type": "execute_result"
    }
   ],
   "source": [
    "# Checando a idade mínima\n",
    "titanic_df['Age'].min()"
   ]
  },
  {
   "cell_type": "code",
   "execution_count": 216,
   "metadata": {
    "collapsed": false
   },
   "outputs": [],
   "source": [
    "# Agrupando idades por faixas etárias (de 10 em 10 anos)\n",
    "faixa_idades = ['0-9', '10-19', '20-29', '30-39', '40-49', '50-59', '60-69', '70-80']"
   ]
  },
  {
   "cell_type": "code",
   "execution_count": 217,
   "metadata": {
    "collapsed": false
   },
   "outputs": [],
   "source": [
    "titanic_df['age_group'] = pd.cut(titanic_df.Age, range(0, 81, 10), labels=faixa_idades)"
   ]
  },
  {
   "cell_type": "code",
   "execution_count": 218,
   "metadata": {
    "collapsed": false
   },
   "outputs": [
    {
     "data": {
      "text/plain": [
       "'70-80'"
      ]
     },
     "execution_count": 218,
     "metadata": {},
     "output_type": "execute_result"
    }
   ],
   "source": [
    "titanic_df['age_group'].iloc[630]"
   ]
  },
  {
   "cell_type": "markdown",
   "metadata": {},
   "source": [
    "## 7. Analisando os Dados"
   ]
  },
  {
   "cell_type": "markdown",
   "metadata": {},
   "source": [
    "### 7.1 Número de Sobreviventes"
   ]
  },
  {
   "cell_type": "markdown",
   "metadata": {},
   "source": [
    "#### Primeiramente vamos analisar o número total de passageiros e o número total de homens e mulheres"
   ]
  },
  {
   "cell_type": "code",
   "execution_count": 219,
   "metadata": {
    "collapsed": false
   },
   "outputs": [],
   "source": [
    "# Número de Passageiros e números de sobreviventes (conforme o kaggle)\n",
    "passageiros_kaggle = 2224\n",
    "sobreviventes_kaggle = 722\n",
    "naosobreviventes_kaggle = passageiros_kaggle - sobreviventes_kaggle"
   ]
  },
  {
   "cell_type": "code",
   "execution_count": 220,
   "metadata": {
    "collapsed": false
   },
   "outputs": [
    {
     "name": "stdout",
     "output_type": "stream",
     "text": [
      "2224\n",
      "722\n",
      "1502\n"
     ]
    }
   ],
   "source": [
    "print passageiros_kaggle\n",
    "print sobreviventes_kaggle\n",
    "print naosobreviventes_kaggle"
   ]
  },
  {
   "cell_type": "code",
   "execution_count": 221,
   "metadata": {
    "collapsed": false
   },
   "outputs": [],
   "source": [
    "# Número de Passageiros e número de sobreviventes (conforme a amostra)\n",
    "passageiros_sample = len(titanic_df)\n",
    "sobreviventes_sample = len(titanic_df[titanic_df.Survived=='Verdadeiro'])\n",
    "naosobreviventes_sample = passageiros_sample - sobreviventes_sample"
   ]
  },
  {
   "cell_type": "code",
   "execution_count": 222,
   "metadata": {
    "collapsed": false
   },
   "outputs": [
    {
     "name": "stdout",
     "output_type": "stream",
     "text": [
      "891\n",
      "342\n",
      "549\n"
     ]
    }
   ],
   "source": [
    "print passageiros_sample\n",
    "print sobreviventes_sample\n",
    "print naosobreviventes_sample"
   ]
  },
  {
   "cell_type": "code",
   "execution_count": 223,
   "metadata": {
    "collapsed": true
   },
   "outputs": [],
   "source": [
    "sobreviventes_data = titanic_df[titanic_df.Survived=='Verdadeiro']\n",
    "naosobreviventes_data = titanic_df[titanic_df.Survived=='Falso']"
   ]
  },
  {
   "cell_type": "code",
   "execution_count": 224,
   "metadata": {
    "collapsed": false
   },
   "outputs": [
    {
     "name": "stdout",
     "output_type": "stream",
     "text": [
      "<class 'pandas.core.frame.DataFrame'>\n",
      "Int64Index: 342 entries, 1 to 889\n",
      "Data columns (total 5 columns):\n",
      "PassengerId    342 non-null int64\n",
      "Survived       342 non-null object\n",
      "Sex            342 non-null object\n",
      "Age            342 non-null float64\n",
      "age_group      342 non-null category\n",
      "dtypes: category(1), float64(1), int64(1), object(2)\n",
      "memory usage: 13.8+ KB\n"
     ]
    }
   ],
   "source": [
    "sobreviventes_data.info()"
   ]
  },
  {
   "cell_type": "code",
   "execution_count": 225,
   "metadata": {
    "collapsed": false
   },
   "outputs": [
    {
     "name": "stdout",
     "output_type": "stream",
     "text": [
      "<class 'pandas.core.frame.DataFrame'>\n",
      "Int64Index: 549 entries, 0 to 890\n",
      "Data columns (total 5 columns):\n",
      "PassengerId    549 non-null int64\n",
      "Survived       549 non-null object\n",
      "Sex            549 non-null object\n",
      "Age            549 non-null float64\n",
      "age_group      549 non-null category\n",
      "dtypes: category(1), float64(1), int64(1), object(2)\n",
      "memory usage: 22.0+ KB\n"
     ]
    }
   ],
   "source": [
    "naosobreviventes_data.info()"
   ]
  },
  {
   "cell_type": "code",
   "execution_count": 226,
   "metadata": {
    "collapsed": false
   },
   "outputs": [
    {
     "name": "stdout",
     "output_type": "stream",
     "text": [
      "Total (Kaggle): 2224\n",
      "Total de Sobreviventes (Kaggle): 722 - 32.464028777%\n",
      "Total de Não Sobreviventes (Kaggle): 1502 - 67.535971223%\n"
     ]
    }
   ],
   "source": [
    "# Calculando a porcentagem de sobreviventes (de acordo com a base do kaggle e com a amostra)\n",
    "from __future__ import division\n",
    "print \"Total (Kaggle): {}\".format(passageiros_kaggle)\n",
    "print \"Total de Sobreviventes (Kaggle): {} - {}{}\".format(sobreviventes_kaggle, sobreviventes_kaggle/passageiros_kaggle * 100, '%')\n",
    "print \"Total de Não Sobreviventes (Kaggle): {} - {}{}\".format(naosobreviventes_kaggle, naosobreviventes_kaggle/passageiros_kaggle * 100, '%')"
   ]
  },
  {
   "cell_type": "code",
   "execution_count": 227,
   "metadata": {
    "collapsed": false
   },
   "outputs": [
    {
     "name": "stdout",
     "output_type": "stream",
     "text": [
      "Total (sample): 891\n",
      "Total de Sobreviventes (sample): 342 - 38.3838383838%\n",
      "Total de Não Sobreviventes (sample): 549 - 61.6161616162%\n"
     ]
    }
   ],
   "source": [
    "from __future__ import division\n",
    "print \"Total (sample): {}\".format(passageiros_sample)\n",
    "print \"Total de Sobreviventes (sample): {} - {}{}\".format(sobreviventes_sample, sobreviventes_sample/passageiros_sample * 100, '%')\n",
    "print \"Total de Não Sobreviventes (sample): {} - {}{}\".format(naosobreviventes_sample, naosobreviventes_sample/passageiros_sample * 100, '%')"
   ]
  },
  {
   "cell_type": "markdown",
   "metadata": {},
   "source": [
    "### Obs: Usaremos os dados do sample, pois estão condizentes com os dados da amostra total"
   ]
  },
  {
   "cell_type": "markdown",
   "metadata": {},
   "source": [
    "## 8. Relação entre sexo e sobreviventes (Qual gênero tem a maior chance de sobrevicência?)"
   ]
  },
  {
   "cell_type": "markdown",
   "metadata": {},
   "source": [
    "### 8.1 Hypothesis"
   ]
  },
  {
   "cell_type": "markdown",
   "metadata": {},
   "source": [
    "#### H0 = O gênero não tem impacto na sobrevivência\n",
    "#### HA = O gênero tem impacto na sobrevivência"
   ]
  },
  {
   "cell_type": "code",
   "execution_count": 228,
   "metadata": {
    "collapsed": false
   },
   "outputs": [],
   "source": [
    "tabela_sexo = pd.crosstab(titanic_df['Survived'],titanic_df['Sex'], margins=True)"
   ]
  },
  {
   "cell_type": "code",
   "execution_count": 229,
   "metadata": {
    "collapsed": false
   },
   "outputs": [
    {
     "data": {
      "text/plain": [
       "314"
      ]
     },
     "execution_count": 229,
     "metadata": {},
     "output_type": "execute_result"
    }
   ],
   "source": [
    "tabela_sexo.female.All"
   ]
  },
  {
   "cell_type": "code",
   "execution_count": 230,
   "metadata": {
    "collapsed": false
   },
   "outputs": [
    {
     "name": "stdout",
     "output_type": "stream",
     "text": [
      "Total de Mulheres: 314\n",
      "Total de Mulheres Sobreviventes: 109\n",
      "Porcentagem de Mulheres Sobreviventes: 74.2038216561%\n"
     ]
    }
   ],
   "source": [
    "# Mulheres sobreviventes\n",
    "from __future__ import division\n",
    "print \"Total de Mulheres: {}\".format(tabela_sexo.female.All)\n",
    "print \"Total de Mulheres Sobreviventes: {}\".format(tabela_sexo.male.Verdadeiro)\n",
    "print \"Porcentagem de Mulheres Sobreviventes: {}{}\".format(tabela_sexo.female.Verdadeiro / tabela_sexo.female.All * 100, '%')"
   ]
  },
  {
   "cell_type": "code",
   "execution_count": 231,
   "metadata": {
    "collapsed": false
   },
   "outputs": [
    {
     "name": "stdout",
     "output_type": "stream",
     "text": [
      "Total de Homens: 577\n",
      "Total de Homens Sobreviventes: 109\n",
      "Porcentagem de Homens Sobreviventes: 18.8908145581%\n"
     ]
    }
   ],
   "source": [
    "# Homens sobreviventes\n",
    "from __future__ import division\n",
    "print \"Total de Homens: {}\".format(tabela_sexo.male.All)\n",
    "print \"Total de Homens Sobreviventes: {}\".format(tabela_sexo.male.Verdadeiro)\n",
    "print \"Porcentagem de Homens Sobreviventes: {}{}\".format(tabela_sexo.male.Verdadeiro / tabela_sexo.male.All * 100, '%')"
   ]
  },
  {
   "cell_type": "markdown",
   "metadata": {},
   "source": [
    "## 9. Relação entre idade e sobreviventes"
   ]
  },
  {
   "cell_type": "markdown",
   "metadata": {},
   "source": [
    "### 9.1 Hypothesis"
   ]
  },
  {
   "cell_type": "markdown",
   "metadata": {},
   "source": [
    "#### H0 = A idade não tem impacto na sobrevivência\n",
    "#### HA = A idade tem impacto na sobrevivência"
   ]
  },
  {
   "cell_type": "code",
   "execution_count": 232,
   "metadata": {
    "collapsed": false
   },
   "outputs": [],
   "source": [
    "tabela_idade = pd.crosstab(titanic_df['Survived'],titanic_df['age_group'], margins=True)"
   ]
  },
  {
   "cell_type": "code",
   "execution_count": 233,
   "metadata": {
    "collapsed": false
   },
   "outputs": [
    {
     "data": {
      "text/html": [
       "<div>\n",
       "<table border=\"1\" class=\"dataframe\">\n",
       "  <thead>\n",
       "    <tr style=\"text-align: right;\">\n",
       "      <th>age_group</th>\n",
       "      <th>0-9</th>\n",
       "      <th>10-19</th>\n",
       "      <th>20-29</th>\n",
       "      <th>30-39</th>\n",
       "      <th>40-49</th>\n",
       "      <th>50-59</th>\n",
       "      <th>60-69</th>\n",
       "      <th>70-80</th>\n",
       "      <th>All</th>\n",
       "    </tr>\n",
       "    <tr>\n",
       "      <th>Survived</th>\n",
       "      <th></th>\n",
       "      <th></th>\n",
       "      <th></th>\n",
       "      <th></th>\n",
       "      <th></th>\n",
       "      <th></th>\n",
       "      <th></th>\n",
       "      <th></th>\n",
       "      <th></th>\n",
       "    </tr>\n",
       "  </thead>\n",
       "  <tbody>\n",
       "    <tr>\n",
       "      <th>Falso</th>\n",
       "      <td>26</td>\n",
       "      <td>71</td>\n",
       "      <td>163</td>\n",
       "      <td>194</td>\n",
       "      <td>53</td>\n",
       "      <td>25</td>\n",
       "      <td>13</td>\n",
       "      <td>4</td>\n",
       "      <td>549</td>\n",
       "    </tr>\n",
       "    <tr>\n",
       "      <th>Verdadeiro</th>\n",
       "      <td>38</td>\n",
       "      <td>44</td>\n",
       "      <td>120</td>\n",
       "      <td>85</td>\n",
       "      <td>33</td>\n",
       "      <td>17</td>\n",
       "      <td>4</td>\n",
       "      <td>1</td>\n",
       "      <td>342</td>\n",
       "    </tr>\n",
       "    <tr>\n",
       "      <th>All</th>\n",
       "      <td>64</td>\n",
       "      <td>115</td>\n",
       "      <td>283</td>\n",
       "      <td>279</td>\n",
       "      <td>86</td>\n",
       "      <td>42</td>\n",
       "      <td>17</td>\n",
       "      <td>5</td>\n",
       "      <td>891</td>\n",
       "    </tr>\n",
       "  </tbody>\n",
       "</table>\n",
       "</div>"
      ],
      "text/plain": [
       "age_group   0-9  10-19  20-29  30-39  40-49  50-59  60-69  70-80  All\n",
       "Survived                                                             \n",
       "Falso        26     71    163    194     53     25     13      4  549\n",
       "Verdadeiro   38     44    120     85     33     17      4      1  342\n",
       "All          64    115    283    279     86     42     17      5  891"
      ]
     },
     "execution_count": 233,
     "metadata": {},
     "output_type": "execute_result"
    }
   ],
   "source": [
    "tabela_idade"
   ]
  },
  {
   "cell_type": "code",
   "execution_count": 234,
   "metadata": {
    "collapsed": false
   },
   "outputs": [
    {
     "data": {
      "image/png": "[encoded data removed]",
      "text/plain": [
       "<matplotlib.figure.Figure at 0x7fa1b08db0d0>"
      ]
     },
     "metadata": {},
     "output_type": "display_data"
    }
   ],
   "source": [
    "# Criação do gráfico\n",
    "%matplotlib inline\n",
    "titanic_df.groupby(['age_group']).size().plot(kind='bar')\n",
    "plt.title(\"Distribuicao dos Grupos de Idades\",fontsize=14)\n",
    "plt.ylabel('Total')\n",
    "plt.xlabel('Grupos de Idades');"
   ]
  },
  {
   "cell_type": "code",
   "execution_count": 235,
   "metadata": {
    "collapsed": false
   },
   "outputs": [
    {
     "name": "stdout",
     "output_type": "stream",
     "text": [
      "<class 'pandas.core.frame.DataFrame'>\n",
      "RangeIndex: 891 entries, 0 to 890\n",
      "Data columns (total 5 columns):\n",
      "PassengerId    891 non-null int64\n",
      "Survived       891 non-null object\n",
      "Sex            891 non-null object\n",
      "Age            891 non-null float64\n",
      "age_group      891 non-null category\n",
      "dtypes: category(1), float64(1), int64(1), object(2)\n",
      "memory usage: 28.8+ KB\n"
     ]
    }
   ],
   "source": [
    "titanic_df.info()"
   ]
  },
  {
   "cell_type": "code",
   "execution_count": 236,
   "metadata": {
    "collapsed": true
   },
   "outputs": [],
   "source": [
    "# Transformando novamente o campor Survived em Booleano para calcular as médias\n",
    "survived_map = {'Falso': False , 'Verdadeiro': True}\n",
    "titanic_df['Survived'] = titanic_df['Survived'].map(survived_map)"
   ]
  },
  {
   "cell_type": "code",
   "execution_count": 237,
   "metadata": {
    "collapsed": false
   },
   "outputs": [
    {
     "name": "stdout",
     "output_type": "stream",
     "text": [
      "<class 'pandas.core.frame.DataFrame'>\n",
      "RangeIndex: 891 entries, 0 to 890\n",
      "Data columns (total 5 columns):\n",
      "PassengerId    891 non-null int64\n",
      "Survived       891 non-null bool\n",
      "Sex            891 non-null object\n",
      "Age            891 non-null float64\n",
      "age_group      891 non-null category\n",
      "dtypes: bool(1), category(1), float64(1), int64(1), object(1)\n",
      "memory usage: 22.8+ KB\n"
     ]
    }
   ],
   "source": [
    "titanic_df.info()"
   ]
  },
  {
   "cell_type": "code",
   "execution_count": 238,
   "metadata": {
    "collapsed": false
   },
   "outputs": [
    {
     "name": "stdout",
     "output_type": "stream",
     "text": [
      "age_group\n",
      "0-9      0.593750\n",
      "10-19    0.382609\n",
      "20-29    0.424028\n",
      "30-39    0.304659\n",
      "40-49    0.383721\n",
      "50-59    0.404762\n",
      "60-69    0.235294\n",
      "70-80    0.200000\n",
      "Name: Survived, dtype: float64\n"
     ]
    }
   ],
   "source": [
    "print titanic_df.groupby(['age_group']).Survived.mean()"
   ]
  },
  {
   "cell_type": "code",
   "execution_count": 239,
   "metadata": {
    "collapsed": false
   },
   "outputs": [
    {
     "name": "stdout",
     "output_type": "stream",
     "text": [
      "Sex     age_group\n",
      "female  0-9          0.612903\n",
      "        10-19        0.739130\n",
      "        20-29        0.723881\n",
      "        30-39        0.836364\n",
      "        40-49        0.677419\n",
      "        50-59        0.928571\n",
      "        60-69        1.000000\n",
      "male    0-9          0.575758\n",
      "        10-19        0.144928\n",
      "        20-29        0.154362\n",
      "        30-39        0.174107\n",
      "        40-49        0.218182\n",
      "        50-59        0.142857\n",
      "        60-69        0.071429\n",
      "        70-80        0.200000\n",
      "Name: Survived, dtype: float64\n"
     ]
    }
   ],
   "source": [
    "print titanic_df.groupby(['Sex','age_group']).Survived.mean()"
   ]
  },
  {
   "cell_type": "code",
   "execution_count": 276,
   "metadata": {
    "collapsed": true
   },
   "outputs": [],
   "source": [
    "# Separando os valores para criação do gráfico\n",
    "dados_homens = titanic_df[titanic_df.Sex == \"male\"].groupby('age_group').Survived.mean().values\n",
    "dados_mulheres = titanic_df[titanic_df.Sex == \"female\"].groupby('age_group').Survived.mean().values"
   ]
  },
  {
   "cell_type": "code",
   "execution_count": 277,
   "metadata": {
    "collapsed": false
   },
   "outputs": [
    {
     "data": {
      "image/png": "[encoded data removed]",
      "text/plain": [
       "<matplotlib.figure.Figure at 0x7fa1b00d2790>"
      ]
     },
     "metadata": {},
     "output_type": "display_data"
    }
   ],
   "source": [
    "# Posicionamento no gráfico\n",
    "posicao_homens = np.array(range(len(faixa_idades)))\n",
    "posicao_mulheres = np.array(range(len(faixa_idades)))+0.4\n",
    "\n",
    "# Plotagem\n",
    "ax = plt.subplot()\n",
    "ax.bar(posicao_homen, dados_homens,width=0.4,label='Homens',color='blue')\n",
    "ax.bar(posicao_mulher, dados_mulheres,width=0.4,label='Mulheres',color='pink')\n",
    "\n",
    "# Inserindo o faixa de idade\n",
    "espacamento = np.array(range(len(faixa_idades)))+0.4\n",
    "plt.xticks(espacamento,  faixa_idades)\n",
    "\n",
    "ax.set_ylabel(\"Proporcao\")\n",
    "ax.set_xlabel(\"Faixa de Idades\")\n",
    "ax.set_title(\"Proporcao de Sobrevivente por Faixa de Idades / Sexo\",fontsize=20)\n",
    "plt.show()"
   ]
  },
  {
   "cell_type": "code",
   "execution_count": 279,
   "metadata": {
    "collapsed": false
   },
   "outputs": [
    {
     "name": "stdout",
     "output_type": "stream",
     "text": [
      "Sex\n",
      "female     53\n",
      "male      124\n",
      "dtype: int64\n"
     ]
    }
   ],
   "source": [
    "print idades_nulas.groupby('Sex').size()"
   ]
  },
  {
   "cell_type": "code",
   "execution_count": null,
   "metadata": {
    "collapsed": true
   },
   "outputs": [],
   "source": []
  }
 ],
 "metadata": {
  "kernelspec": {
   "display_name": "Python [default]",
   "language": "python",
   "name": "python2"
  },
  "language_info": {
   "codemirror_mode": {
    "name": "ipython",
    "version": 2
   },
   "file_extension": ".py",
   "mimetype": "text/x-python",
   "name": "python",
   "nbconvert_exporter": "python",
   "pygments_lexer": "ipython2",
   "version": "2.7.13"
  }
 },
 "nbformat": 4,
 "nbformat_minor": 2
}
